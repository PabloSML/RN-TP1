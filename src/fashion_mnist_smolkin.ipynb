{
 "cells": [
  {
   "attachments": {},
   "cell_type": "markdown",
   "metadata": {},
   "source": [
    "## Notebook Ejemplo Modificado"
   ]
  },
  {
   "cell_type": "code",
   "execution_count": 1,
   "metadata": {},
   "outputs": [],
   "source": [
    "from keras.datasets import mnist\n",
    "import numpy as np\n",
    "from matplotlib import pyplot as plt\n",
    "import pandas as pd"
   ]
  },
  {
   "cell_type": "code",
   "execution_count": 30,
   "metadata": {},
   "outputs": [
    {
     "name": "stdout",
     "output_type": "stream",
     "text": [
      "(60000, 28, 28)\n",
      "(60000,)\n"
     ]
    }
   ],
   "source": [
    "fashion_mnist = np.load('../AssignmentGoodies/train_images.npy')\n",
    "print(fashion_mnist.shape)\n",
    "x_data = fashion_mnist\n",
    "y_data = pd.read_csv('../AssignmentGoodies/train_labels.csv').to_numpy()[:,0]\n",
    "print(y_data.shape)"
   ]
  },
  {
   "cell_type": "code",
   "execution_count": 31,
   "metadata": {},
   "outputs": [
    {
     "data": {
      "text/plain": [
       "(60000,)"
      ]
     },
     "execution_count": 31,
     "metadata": {},
     "output_type": "execute_result"
    }
   ],
   "source": [
    "y_data.shape"
   ]
  },
  {
   "cell_type": "code",
   "execution_count": 32,
   "metadata": {},
   "outputs": [
    {
     "data": {
      "text/plain": [
       "9"
      ]
     },
     "execution_count": 32,
     "metadata": {},
     "output_type": "execute_result"
    }
   ],
   "source": [
    "y_data[0]"
   ]
  },
  {
   "cell_type": "code",
   "execution_count": 33,
   "metadata": {},
   "outputs": [
    {
     "data": {
      "text/plain": [
       "<matplotlib.image.AxesImage at 0x1e7d1175c70>"
      ]
     },
     "execution_count": 33,
     "metadata": {},
     "output_type": "execute_result"
    },
    {
     "data": {
      "image/png": "[encoded data removed]",
      "text/plain": [
       "<Figure size 640x480 with 1 Axes>"
      ]
     },
     "metadata": {},
     "output_type": "display_data"
    }
   ],
   "source": [
    "plt.imshow(x_data[0,...])"
   ]
  },
  {
   "cell_type": "code",
   "execution_count": 19,
   "metadata": {},
   "outputs": [],
   "source": [
    "from sklearn import model_selection"
   ]
  },
  {
   "cell_type": "code",
   "execution_count": 35,
   "metadata": {},
   "outputs": [],
   "source": [
    "# Split the train_valid sub-dataset into train and valid\n",
    "x_train, x_valid, y_train, y_valid = model_selection.train_test_split(x_data, y_data, test_size=1/3, random_state=10, shuffle=True)"
   ]
  },
  {
   "cell_type": "code",
   "execution_count": 36,
   "metadata": {},
   "outputs": [
    {
     "name": "stdout",
     "output_type": "stream",
     "text": [
      "(40000, 28, 28) (20000, 28, 28) (40000,) (20000,)\n"
     ]
    }
   ],
   "source": [
    "print(x_train.shape, x_valid.shape, y_train.shape, y_valid.shape)"
   ]
  },
  {
   "cell_type": "code",
   "execution_count": 37,
   "metadata": {},
   "outputs": [],
   "source": [
    "y_sparse_train = np.zeros([40000,10])\n",
    "y_sparse_valid = np.zeros([20000,10])"
   ]
  },
  {
   "cell_type": "code",
   "execution_count": 39,
   "metadata": {},
   "outputs": [],
   "source": [
    "for idx in range(40000):\n",
    "    y_sparse_train[idx,y_train[idx]] = 1\n",
    "\n",
    "for idx in range(20000):\n",
    "    y_sparse_valid[idx,y_valid[idx]] = 1"
   ]
  },
  {
   "cell_type": "code",
   "execution_count": 40,
   "metadata": {},
   "outputs": [
    {
     "data": {
      "text/plain": [
       "array([0., 0., 0., 0., 0., 0., 1., 0., 0., 0.])"
      ]
     },
     "execution_count": 40,
     "metadata": {},
     "output_type": "execute_result"
    }
   ],
   "source": [
    "y_sparse_train[0]"
   ]
  },
  {
   "cell_type": "code",
   "execution_count": 42,
   "metadata": {},
   "outputs": [
    {
     "data": {
      "text/plain": [
       "array([0., 0., 0., 0., 0., 0., 0., 0., 0., 1.])"
      ]
     },
     "execution_count": 42,
     "metadata": {},
     "output_type": "execute_result"
    }
   ],
   "source": [
    "y_sparse_valid[0]"
   ]
  },
  {
   "cell_type": "code",
   "execution_count": 43,
   "metadata": {},
   "outputs": [],
   "source": [
    "import tensorflow as tf\n",
    "from tensorflow.keras.layers import Dense, Flatten\n",
    "from tensorflow.keras.optimizers import SGD, Adam\n",
    "from tensorflow.keras.models import Sequential"
   ]
  },
  {
   "cell_type": "code",
   "execution_count": 44,
   "metadata": {},
   "outputs": [],
   "source": [
    "model =  Sequential()"
   ]
  },
  {
   "cell_type": "code",
   "execution_count": 45,
   "metadata": {},
   "outputs": [],
   "source": [
    "model.add(Flatten(input_shape=(28,28)))"
   ]
  },
  {
   "cell_type": "code",
   "execution_count": 46,
   "metadata": {},
   "outputs": [],
   "source": [
    "model.add(Dense(100, activation=\"relu\"))\n",
    "model.add(Dense(10, activation=\"softmax\"))"
   ]
  },
  {
   "cell_type": "code",
   "execution_count": 47,
   "metadata": {},
   "outputs": [
    {
     "name": "stdout",
     "output_type": "stream",
     "text": [
      "Model: \"sequential_1\"\n",
      "_________________________________________________________________\n",
      " Layer (type)                Output Shape              Param #   \n",
      "=================================================================\n",
      " flatten_1 (Flatten)         (None, 784)               0         \n",
      "                                                                 \n",
      " dense_2 (Dense)             (None, 100)               78500     \n",
      "                                                                 \n",
      " dense_3 (Dense)             (None, 10)                1010      \n",
      "                                                                 \n",
      "=================================================================\n",
      "Total params: 79,510\n",
      "Trainable params: 79,510\n",
      "Non-trainable params: 0\n",
      "_________________________________________________________________\n"
     ]
    }
   ],
   "source": [
    "model.summary()"
   ]
  },
  {
   "cell_type": "code",
   "execution_count": 52,
   "metadata": {},
   "outputs": [],
   "source": [
    "model.compile(loss = \"categorical_crossentropy\", optimizer=Adam(learning_rate=0.0001),metrics=[\"accuracy\"])"
   ]
  },
  {
   "cell_type": "code",
   "execution_count": 53,
   "metadata": {},
   "outputs": [
    {
     "name": "stdout",
     "output_type": "stream",
     "text": [
      "Epoch 1/20\n",
      "313/313 [==============================] - 2s 6ms/step - loss: 0.6728 - accuracy: 0.7902 - val_loss: 0.7278 - val_accuracy: 0.7877\n",
      "Epoch 2/20\n",
      "313/313 [==============================] - 2s 5ms/step - loss: 0.5774 - accuracy: 0.8068 - val_loss: 0.6806 - val_accuracy: 0.7962\n",
      "Epoch 3/20\n",
      "313/313 [==============================] - 2s 5ms/step - loss: 0.5239 - accuracy: 0.8196 - val_loss: 0.6449 - val_accuracy: 0.8033\n",
      "Epoch 4/20\n",
      "313/313 [==============================] - 2s 6ms/step - loss: 0.4924 - accuracy: 0.8286 - val_loss: 0.6261 - val_accuracy: 0.8117\n",
      "Epoch 5/20\n",
      "313/313 [==============================] - 1s 5ms/step - loss: 0.4671 - accuracy: 0.8332 - val_loss: 0.6159 - val_accuracy: 0.8164\n",
      "Epoch 6/20\n",
      "313/313 [==============================] - 2s 5ms/step - loss: 0.4477 - accuracy: 0.8405 - val_loss: 0.5939 - val_accuracy: 0.8217\n",
      "Epoch 7/20\n",
      "313/313 [==============================] - 2s 6ms/step - loss: 0.4303 - accuracy: 0.8462 - val_loss: 0.5841 - val_accuracy: 0.8249\n",
      "Epoch 8/20\n",
      "313/313 [==============================] - 1s 4ms/step - loss: 0.4194 - accuracy: 0.8495 - val_loss: 0.5802 - val_accuracy: 0.8245\n",
      "Epoch 9/20\n",
      "313/313 [==============================] - 1s 5ms/step - loss: 0.4081 - accuracy: 0.8533 - val_loss: 0.5778 - val_accuracy: 0.8313\n",
      "Epoch 10/20\n",
      "313/313 [==============================] - 1s 5ms/step - loss: 0.3975 - accuracy: 0.8582 - val_loss: 0.5687 - val_accuracy: 0.8334\n",
      "Epoch 11/20\n",
      "313/313 [==============================] - 1s 5ms/step - loss: 0.3878 - accuracy: 0.8590 - val_loss: 0.5617 - val_accuracy: 0.8378\n",
      "Epoch 12/20\n",
      "313/313 [==============================] - 2s 5ms/step - loss: 0.3803 - accuracy: 0.8616 - val_loss: 0.5625 - val_accuracy: 0.8368\n",
      "Epoch 13/20\n",
      "313/313 [==============================] - 1s 5ms/step - loss: 0.3732 - accuracy: 0.8641 - val_loss: 0.5668 - val_accuracy: 0.8389\n",
      "Epoch 14/20\n",
      "313/313 [==============================] - 1s 5ms/step - loss: 0.3657 - accuracy: 0.8671 - val_loss: 0.5532 - val_accuracy: 0.8403\n",
      "Epoch 15/20\n",
      "313/313 [==============================] - 1s 5ms/step - loss: 0.3616 - accuracy: 0.8680 - val_loss: 0.5416 - val_accuracy: 0.8446\n",
      "Epoch 16/20\n",
      "313/313 [==============================] - 1s 5ms/step - loss: 0.3515 - accuracy: 0.8709 - val_loss: 0.5494 - val_accuracy: 0.8419\n",
      "Epoch 17/20\n",
      "313/313 [==============================] - 1s 5ms/step - loss: 0.3462 - accuracy: 0.8734 - val_loss: 0.5555 - val_accuracy: 0.8441\n",
      "Epoch 18/20\n",
      "313/313 [==============================] - 1s 5ms/step - loss: 0.3431 - accuracy: 0.8737 - val_loss: 0.5441 - val_accuracy: 0.8452\n",
      "Epoch 19/20\n",
      "313/313 [==============================] - 2s 5ms/step - loss: 0.3362 - accuracy: 0.8767 - val_loss: 0.5433 - val_accuracy: 0.8477\n",
      "Epoch 20/20\n",
      "313/313 [==============================] - 2s 5ms/step - loss: 0.3317 - accuracy: 0.8781 - val_loss: 0.5562 - val_accuracy: 0.8461\n"
     ]
    }
   ],
   "source": [
    "history = model.fit(x= x_train, y = y_sparse_train, validation_data=(x_valid, y_sparse_valid), batch_size = 128, epochs=20)"
   ]
  },
  {
   "cell_type": "code",
   "execution_count": 54,
   "metadata": {},
   "outputs": [
    {
     "data": {
      "image/png": "[encoded data removed]",
      "text/plain": [
       "<Figure size 640x480 with 1 Axes>"
      ]
     },
     "metadata": {},
     "output_type": "display_data"
    }
   ],
   "source": [
    "plt.plot(history.history[\"loss\"], label=\"train\")\n",
    "plt.plot(history.history[\"val_loss\"], label=\"val\")\n",
    "plt.legend()\n",
    "plt.show()"
   ]
  },
  {
   "cell_type": "code",
   "execution_count": 55,
   "metadata": {},
   "outputs": [
    {
     "data": {
      "image/png": "[encoded data removed]",
      "text/plain": [
       "<Figure size 640x480 with 1 Axes>"
      ]
     },
     "metadata": {},
     "output_type": "display_data"
    },
    {
     "name": "stdout",
     "output_type": "stream",
     "text": [
      "Max Accuracy: 0.8781\n",
      "Max Val Accuracy: 0.8477\n"
     ]
    }
   ],
   "source": [
    "plt.plot(history.history[\"accuracy\"], label=\"train\")\n",
    "plt.plot(history.history[\"val_accuracy\"], label=\"val\")\n",
    "plt.legend()\n",
    "plt.show()\n",
    "maxAccuracy = max(history.history[\"accuracy\"])\n",
    "maxValAccuracy = max(history.history[\"val_accuracy\"])\n",
    "print(f\"Max Accuracy: {maxAccuracy:.4f}\")\n",
    "print(f\"Max Val Accuracy: {maxValAccuracy:.4f}\")"
   ]
  },
  {
   "attachments": {},
   "cell_type": "markdown",
   "metadata": {},
   "source": [
    "## Con Conv2D"
   ]
  },
  {
   "cell_type": "code",
   "execution_count": 58,
   "metadata": {},
   "outputs": [
    {
     "name": "stdout",
     "output_type": "stream",
     "text": [
      "Epoch 1, Loss: 0.4003010094165802, Accuracy: 85.8699951171875, Test Loss: 0.33552467823028564, Test Accuracy: 87.68499755859375\n",
      "Epoch 2, Loss: 0.2564120888710022, Accuracy: 90.54499816894531, Test Loss: 0.289281964302063, Test Accuracy: 89.52999877929688\n",
      "Epoch 3, Loss: 0.1948867291212082, Accuracy: 92.68000030517578, Test Loss: 0.302434504032135, Test Accuracy: 89.41500091552734\n",
      "Epoch 4, Loss: 0.15130695700645447, Accuracy: 94.27000427246094, Test Loss: 0.29294663667678833, Test Accuracy: 90.375\n",
      "Epoch 5, Loss: 0.11529947817325592, Accuracy: 95.69000244140625, Test Loss: 0.3269798159599304, Test Accuracy: 90.19499969482422\n",
      "Epoch 6, Loss: 0.08658584207296371, Accuracy: 96.83250427246094, Test Loss: 0.34595683217048645, Test Accuracy: 90.06000518798828\n",
      "Epoch 7, Loss: 0.06856217980384827, Accuracy: 97.58999633789062, Test Loss: 0.3647693991661072, Test Accuracy: 90.1449966430664\n",
      "Epoch 8, Loss: 0.05207018554210663, Accuracy: 98.12750244140625, Test Loss: 0.4143773913383484, Test Accuracy: 90.2300033569336\n",
      "Epoch 9, Loss: 0.0385403037071228, Accuracy: 98.66999816894531, Test Loss: 0.4417189061641693, Test Accuracy: 90.3550033569336\n",
      "Epoch 10, Loss: 0.030207956209778786, Accuracy: 98.94249725341797, Test Loss: 0.5088390111923218, Test Accuracy: 89.72000122070312\n"
     ]
    }
   ],
   "source": [
    "import tensorflow as tf\n",
    "from tensorflow import keras\n",
    "from tensorflow.keras.layers import Dense, Flatten, Conv2D\n",
    "from tensorflow.keras import Model\n",
    "\n",
    "x_train_c, x_valid_c = x_train / 255.0, x_valid / 255.0\n",
    "\n",
    "x_train_c = x_train_c[..., tf.newaxis]\n",
    "x_valid_c = x_valid_c[..., tf.newaxis]\n",
    "\n",
    "train_ds = tf.data.Dataset.from_tensor_slices(\n",
    "    (x_train_c, y_train)).shuffle(10000).batch(32)\n",
    "test_ds = tf.data.Dataset.from_tensor_slices((x_valid_c, y_valid)).batch(32)\n",
    "\n",
    "class MyModel(Model):\n",
    "    def __init__(self):\n",
    "        super(MyModel, self).__init__()\n",
    "        self.conv1 = Conv2D(32, 3, activation='relu')\n",
    "        self.flatten = Flatten()\n",
    "        self.d1 = Dense(128, activation='relu')\n",
    "        self.d2 = Dense(10, activation='softmax')\n",
    "\n",
    "    def call(self, x):\n",
    "        x = self.conv1(x)\n",
    "        x = self.flatten(x)\n",
    "        x = self.d1(x)\n",
    "        return self.d2(x)\n",
    "\n",
    "\n",
    "model = MyModel()\n",
    "\n",
    "loss_object = tf.keras.losses.SparseCategoricalCrossentropy()\n",
    "\n",
    "optimizer = tf.keras.optimizers.Adam()\n",
    "\n",
    "train_loss = tf.keras.metrics.Mean(name='train_loss')\n",
    "train_accuracy = tf.keras.metrics.SparseCategoricalAccuracy(\n",
    "    name='train_accuracy')\n",
    "\n",
    "test_loss = tf.keras.metrics.Mean(name='test_loss')\n",
    "test_accuracy = tf.keras.metrics.SparseCategoricalAccuracy(\n",
    "    name='test_accuracy')\n",
    "\n",
    "\n",
    "@tf.function\n",
    "def train_step(images, labels):\n",
    "    with tf.GradientTape() as tape:\n",
    "        predictions = model(images)\n",
    "        loss = loss_object(labels, predictions)\n",
    "    gradients = tape.gradient(loss, model.trainable_variables)\n",
    "    optimizer.apply_gradients(zip(gradients, model.trainable_variables))\n",
    "\n",
    "    train_loss(loss)\n",
    "    train_accuracy(labels, predictions)\n",
    "\n",
    "\n",
    "@tf.function\n",
    "def test_step(images, labels):\n",
    "    predictions = model(images)\n",
    "    t_loss = loss_object(labels, predictions)\n",
    "\n",
    "    test_loss(t_loss)\n",
    "    test_accuracy(labels, predictions)\n",
    "\n",
    "\n",
    "EPOCHS = 10\n",
    "\n",
    "for epoch in range(EPOCHS):\n",
    "    train_loss.reset_states()\n",
    "    train_accuracy.reset_states()\n",
    "    test_loss.reset_states()\n",
    "    test_accuracy.reset_states()\n",
    "\n",
    "    for images, labels in train_ds:\n",
    "        train_step(images, labels)\n",
    "\n",
    "    for test_images, test_labels in test_ds:\n",
    "        test_step(test_images, test_labels)\n",
    "\n",
    "    template = 'Epoch {}, Loss: {}, Accuracy: {}, Test Loss: {}, Test Accuracy: {}'\n",
    "    print(template.format(epoch+1,\n",
    "                          train_loss.result(),\n",
    "                          train_accuracy.result()*100,\n",
    "                          test_loss.result(),\n",
    "                          test_accuracy.result()*100))"
   ]
  }
 ],
 "metadata": {
  "kernelspec": {
   "display_name": "venv",
   "language": "python",
   "name": "python3"
  },
  "language_info": {
   "codemirror_mode": {
    "name": "ipython",
    "version": 3
   },
   "file_extension": ".py",
   "mimetype": "text/x-python",
   "name": "python",
   "nbconvert_exporter": "python",
   "pygments_lexer": "ipython3",
   "version": "3.9.16"
  },
  "orig_nbformat": 4
 },
 "nbformat": 4,
 "nbformat_minor": 2
}
