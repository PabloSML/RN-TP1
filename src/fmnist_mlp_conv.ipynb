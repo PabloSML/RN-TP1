{
 "cells": [
  {
   "cell_type": "code",
   "execution_count": 1,
   "metadata": {},
   "outputs": [],
   "source": [
    "from mlp_helper import *"
   ]
  },
  {
   "cell_type": "code",
   "execution_count": 2,
   "metadata": {},
   "outputs": [
    {
     "name": "stdout",
     "output_type": "stream",
     "text": [
      "x data Shape: (60000, 28, 28)\n",
      "y data Shape: (60000,)\n"
     ]
    }
   ],
   "source": [
    "x_data, y_data, class_names = load_fmnist_data()"
   ]
  },
  {
   "cell_type": "code",
   "execution_count": 3,
   "metadata": {},
   "outputs": [],
   "source": [
    "best_model = {\"id\": \"20230527-165553\", \"val_acc\": 0.9001500010490417}"
   ]
  },
  {
   "cell_type": "code",
   "execution_count": 4,
   "metadata": {},
   "outputs": [
    {
     "name": "stdout",
     "output_type": "stream",
     "text": [
      "              train       val\n",
      "accuracy   0.977375  0.910150\n",
      "auc        0.999705  0.991004\n",
      "f1         0.990921  0.909898\n",
      "loss       0.067424  0.300639\n",
      "precision  0.979650  0.915715\n",
      "recall     0.974825  0.906100\n",
      "Model ID: 20230527-172354\n"
     ]
    }
   ],
   "source": [
    "model, x_train, x_valid, y_train, y_valid = create_fmnist_model(\n",
    "    x_data,\n",
    "    y_data,\n",
    "    metrics=['accuracy','AUC','Precision','Recall'],\n",
    "    loss='categorical_crossentropy',\n",
    "    hidden_layers=1,\n",
    "    hidden_units=[512],\n",
    "    weight_initializer='glorot_normal',\n",
    "    optimizer='Adam',\n",
    "    learning_rate=0.0001,\n",
    "    batch_normalization=False,\n",
    "    dropout_rate=0.3,\n",
    "    conv=True,\n",
    "    train_valid_proportion=1/3,\n",
    "    random_state_seed=10,\n",
    "    verbose=False\n",
    ")\n",
    "\n",
    "history, metrics_df, id = run_model(\n",
    "    model=model,\n",
    "    x_train=x_train,\n",
    "    x_valid=x_valid,\n",
    "    y_train=y_train,\n",
    "    y_valid=y_valid,\n",
    "    batch_size=32,\n",
    "    max_epochs=100,\n",
    "    es_config = {\n",
    "        'monitor': 'val_accuracy',\n",
    "        'patience': 10,\n",
    "        'mode': 'max',\n",
    "        'restore_best_weights': True\n",
    "    },\n",
    "    show_metrics=True,\n",
    "    verbose=False\n",
    ")\n",
    "\n",
    "print(f'Model ID: {id}')\n",
    "\n",
    "# Saving the model\n",
    "model.save(f'models/fmnist_mlp_coarse/{id}.h5')\n",
    "\n",
    "# See if highscore\n",
    "if best_model[\"val_acc\"] < metrics_df['val']['accuracy']:\n",
    "    best_model[\"id\"] = id\n",
    "    best_model[\"val_acc\"] = metrics_df['val']['accuracy']"
   ]
  },
  {
   "cell_type": "code",
   "execution_count": 5,
   "metadata": {},
   "outputs": [
    {
     "name": "stdout",
     "output_type": "stream",
     "text": [
      "Best model: 20230527-172354 with validation accuracy: 0.9101499915122986\n"
     ]
    }
   ],
   "source": [
    "print(f'Best model: {best_model[\"id\"]} with validation accuracy: {best_model[\"val_acc\"]}')"
   ]
  }
 ],
 "metadata": {
  "kernelspec": {
   "display_name": "tf",
   "language": "python",
   "name": "python3"
  },
  "language_info": {
   "codemirror_mode": {
    "name": "ipython",
    "version": 3
   },
   "file_extension": ".py",
   "mimetype": "text/x-python",
   "name": "python",
   "nbconvert_exporter": "python",
   "pygments_lexer": "ipython3",
   "version": "3.9.16"
  },
  "orig_nbformat": 4
 },
 "nbformat": 4,
 "nbformat_minor": 2
}
