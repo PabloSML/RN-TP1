{
 "cells": [
  {
   "attachments": {},
   "cell_type": "markdown",
   "metadata": {},
   "source": [
    "# Trabajo Práctico Nro 1 - Redes Neuronales, ITBA 2023\n",
    "Autor: Pablo Smolkin\n",
    "\n",
    "Legajo 59523\n",
    "***"
   ]
  },
  {
   "attachments": {},
   "cell_type": "markdown",
   "metadata": {},
   "source": [
    "### Imports"
   ]
  },
  {
   "cell_type": "code",
   "execution_count": 1,
   "metadata": {},
   "outputs": [],
   "source": [
    "from softmax_helper import *"
   ]
  },
  {
   "attachments": {},
   "cell_type": "markdown",
   "metadata": {},
   "source": [
    "### Load Dataset"
   ]
  },
  {
   "cell_type": "code",
   "execution_count": 2,
   "metadata": {},
   "outputs": [
    {
     "name": "stdout",
     "output_type": "stream",
     "text": [
      "x data Shape: (60000, 28, 28)\n",
      "y data Shape: (60000,)\n"
     ]
    }
   ],
   "source": [
    "x_data, y_data, class_names = load_fmnist_data()"
   ]
  },
  {
   "attachments": {},
   "cell_type": "markdown",
   "metadata": {},
   "source": [
    "### 2. **Modelos:** \n",
    "Entrenar un modelo de clasificación en las 10 clases de Fashion MNIST. Regresión softmax. Probar y comparar: distintos optimizadores, distintas funciones de costo, learning rate, batch_size, inicializaciones de pesos (glorot_uniform, glorot_normal, normal(0,1), normal(0,0.001)).\n",
    "\n",
    "Métricas a reportar para cada entrenamiento de interés: Accuracy como métrica principal.\n",
    "Como métricas secundarias: área bajo la curva ROC, F1-score, Precisión y\n",
    "Recall. Enunciar para el F1-score y el área bajo la curva ROC cómo se calculan los\n",
    "promedios macro y micro. Justificar cuál de los dos es el que corresponde reportar en este\n",
    "problema.\n",
    "\n",
    "Valores mínimos esperados para SoftmaxReg: .70"
   ]
  },
  {
   "cell_type": "code",
   "execution_count": 3,
   "metadata": {},
   "outputs": [],
   "source": [
    "# Loading TensorBoard for learning logging\n",
    "%load_ext tensorboard"
   ]
  },
  {
   "cell_type": "code",
   "execution_count": 4,
   "metadata": {},
   "outputs": [],
   "source": [
    "best_model = {\"id\": None, \"val_acc\": 0.0}"
   ]
  },
  {
   "cell_type": "code",
   "execution_count": 6,
   "metadata": {},
   "outputs": [
    {
     "name": "stdout",
     "output_type": "stream",
     "text": [
      "              train       val\n",
      "accuracy   0.872700  0.854400\n",
      "auc        0.991158  0.987085\n",
      "f1         0.874875  0.852665\n",
      "loss       0.366944  0.435746\n",
      "precision  0.900551  0.881669\n",
      "recall     0.845100  0.826300\n",
      "Model ID: 20230521-221557\n"
     ]
    }
   ],
   "source": [
    "softReg, x_train, x_valid, y_train, y_valid = create_fmnist_model(\n",
    "    x_data,\n",
    "    y_data,\n",
    "    metrics=['accuracy','AUC','Precision','Recall'],\n",
    "    loss='categorical_crossentropy',\n",
    "    weight_initializer='glorot_normal',\n",
    "    optimizer='Adam',\n",
    "    learning_rate=0.0001,\n",
    "    train_valid_proportion=1/3,\n",
    "    random_state_seed=10,\n",
    "    verbose=False\n",
    ")\n",
    "\n",
    "history, metrics_df, id = run_model(\n",
    "    model=softReg,\n",
    "    x_train=x_train,\n",
    "    x_valid=x_valid,\n",
    "    y_train=y_train,\n",
    "    y_valid=y_valid,\n",
    "    batch_size=32,\n",
    "    max_epochs=100,\n",
    "    es_config = {\n",
    "        'monitor': 'val_accuracy',\n",
    "        'patience': 10,\n",
    "        'mode': 'max',\n",
    "        'restore_best_weights': True\n",
    "    },\n",
    "    show_metrics=True,\n",
    "    verbose=False\n",
    ")\n",
    "\n",
    "print(f'Model ID: {id}')\n",
    "\n",
    "# Saving the model\n",
    "softReg.save(f'models/fmnist_softmax_coarse/{id}.h5')\n",
    "\n",
    "# See if highscore\n",
    "if best_model[\"val_acc\"] < metrics_df['val']['accuracy']:\n",
    "    best_model[\"id\"] = id\n",
    "    best_model[\"val_acc\"] = metrics_df['val']['accuracy']"
   ]
  },
  {
   "cell_type": "code",
   "execution_count": 9,
   "metadata": {},
   "outputs": [
    {
     "name": "stdout",
     "output_type": "stream",
     "text": [
      "              train       val\n",
      "accuracy   0.840050  0.829200\n",
      "auc        0.986049  0.983730\n",
      "f1         0.839362  0.827644\n",
      "loss       0.472716  0.507410\n",
      "precision  0.880044  0.868692\n",
      "recall     0.796000  0.784950\n",
      "Model ID: 20230521-222227\n"
     ]
    }
   ],
   "source": [
    "softReg, x_train, x_valid, y_train, y_valid = create_fmnist_model(\n",
    "    x_data,\n",
    "    y_data,\n",
    "    metrics=['accuracy','AUC','Precision','Recall'],\n",
    "    loss='categorical_crossentropy',\n",
    "    weight_initializer='glorot_normal',\n",
    "    optimizer='SGD',\n",
    "    learning_rate=0.0001,\n",
    "    train_valid_proportion=1/3,\n",
    "    random_state_seed=10,\n",
    "    verbose=False\n",
    ")\n",
    "\n",
    "history, metrics_df, id = run_model(\n",
    "    model=softReg,\n",
    "    x_train=x_train,\n",
    "    x_valid=x_valid,\n",
    "    y_train=y_train,\n",
    "    y_valid=y_valid,\n",
    "    batch_size=32,\n",
    "    max_epochs=100,\n",
    "    es_config = {\n",
    "        'monitor': 'val_accuracy',\n",
    "        'patience': 10,\n",
    "        'mode': 'max',\n",
    "        'restore_best_weights': True\n",
    "    },\n",
    "    show_metrics=True,\n",
    "    verbose=False\n",
    ")\n",
    "\n",
    "print(f'Model ID: {id}')\n",
    "\n",
    "# Saving the model\n",
    "softReg.save(f'models/fmnist_softmax_coarse/{id}.h5')\n",
    "\n",
    "# See if highscore\n",
    "if best_model[\"val_acc\"] < metrics_df['val']['accuracy']:\n",
    "    best_model[\"id\"] = id\n",
    "    best_model[\"val_acc\"] = metrics_df['val']['accuracy']"
   ]
  },
  {
   "cell_type": "code",
   "execution_count": 10,
   "metadata": {},
   "outputs": [
    {
     "name": "stdout",
     "output_type": "stream",
     "text": [
      "              train       val\n",
      "accuracy   0.872275  0.854650\n",
      "auc        0.990919  0.987026\n",
      "f1         0.872176  0.853190\n",
      "loss       0.371714  0.436547\n",
      "precision  0.900378  0.881880\n",
      "recall     0.845050  0.827600\n",
      "Model ID: 20230521-222525\n"
     ]
    }
   ],
   "source": [
    "softReg, x_train, x_valid, y_train, y_valid = create_fmnist_model(\n",
    "    x_data,\n",
    "    y_data,\n",
    "    metrics=['accuracy','AUC','Precision','Recall'],\n",
    "    loss='categorical_crossentropy',\n",
    "    weight_initializer='glorot_normal',\n",
    "    optimizer='RMSprop',\n",
    "    learning_rate=0.0001,\n",
    "    train_valid_proportion=1/3,\n",
    "    random_state_seed=10,\n",
    "    verbose=False\n",
    ")\n",
    "\n",
    "history, metrics_df, id = run_model(\n",
    "    model=softReg,\n",
    "    x_train=x_train,\n",
    "    x_valid=x_valid,\n",
    "    y_train=y_train,\n",
    "    y_valid=y_valid,\n",
    "    batch_size=32,\n",
    "    max_epochs=100,\n",
    "    es_config = {\n",
    "        'monitor': 'val_accuracy',\n",
    "        'patience': 10,\n",
    "        'mode': 'max',\n",
    "        'restore_best_weights': True\n",
    "    },\n",
    "    show_metrics=True,\n",
    "    verbose=False\n",
    ")\n",
    "\n",
    "print(f'Model ID: {id}')\n",
    "\n",
    "# Saving the model\n",
    "softReg.save(f'models/fmnist_softmax_coarse/{id}.h5')\n",
    "\n",
    "# See if highscore\n",
    "if best_model[\"val_acc\"] < metrics_df['val']['accuracy']:\n",
    "    best_model[\"id\"] = id\n",
    "    best_model[\"val_acc\"] = metrics_df['val']['accuracy']"
   ]
  },
  {
   "cell_type": "code",
   "execution_count": 11,
   "metadata": {},
   "outputs": [
    {
     "name": "stdout",
     "output_type": "stream",
     "text": [
      "              train       val\n",
      "accuracy   0.886850  0.857500\n",
      "auc        0.987619  0.984487\n",
      "f1         0.888321  0.855448\n",
      "loss       0.017692  0.021183\n",
      "precision  0.909287  0.880603\n",
      "recall     0.864800  0.836000\n",
      "Model ID: 20230521-222644\n"
     ]
    }
   ],
   "source": [
    "softReg, x_train, x_valid, y_train, y_valid = create_fmnist_model(\n",
    "    x_data,\n",
    "    y_data,\n",
    "    metrics=['accuracy','AUC','Precision','Recall'],\n",
    "    loss='mean_squared_error',\n",
    "    weight_initializer='glorot_normal',\n",
    "    optimizer='Adam',\n",
    "    learning_rate=0.0001,\n",
    "    train_valid_proportion=1/3,\n",
    "    random_state_seed=10,\n",
    "    verbose=False\n",
    ")\n",
    "\n",
    "history, metrics_df, id = run_model(\n",
    "    model=softReg,\n",
    "    x_train=x_train,\n",
    "    x_valid=x_valid,\n",
    "    y_train=y_train,\n",
    "    y_valid=y_valid,\n",
    "    batch_size=32,\n",
    "    max_epochs=100,\n",
    "    es_config = {\n",
    "        'monitor': 'val_accuracy',\n",
    "        'patience': 10,\n",
    "        'mode': 'max',\n",
    "        'restore_best_weights': True\n",
    "    },\n",
    "    show_metrics=True,\n",
    "    verbose=False\n",
    ")\n",
    "\n",
    "print(f'Model ID: {id}')\n",
    "\n",
    "# Saving the model\n",
    "softReg.save(f'models/fmnist_softmax_coarse/{id}.h5')\n",
    "\n",
    "# See if highscore\n",
    "if best_model[\"val_acc\"] < metrics_df['val']['accuracy']:\n",
    "    best_model[\"id\"] = id\n",
    "    best_model[\"val_acc\"] = metrics_df['val']['accuracy']"
   ]
  },
  {
   "cell_type": "code",
   "execution_count": 12,
   "metadata": {},
   "outputs": [
    {
     "name": "stdout",
     "output_type": "stream",
     "text": [
      "              train       val\n",
      "accuracy   0.879775  0.855750\n",
      "auc        0.962354  0.960358\n",
      "f1         0.878969  0.852375\n",
      "loss       0.026481  0.030663\n",
      "precision  0.882422  0.859388\n",
      "recall     0.878275  0.852900\n",
      "Model ID: 20230521-222816\n"
     ]
    }
   ],
   "source": [
    "softReg, x_train, x_valid, y_train, y_valid = create_fmnist_model(\n",
    "    x_data,\n",
    "    y_data,\n",
    "    metrics=['accuracy','AUC','Precision','Recall'],\n",
    "    loss='mean_absolute_error',\n",
    "    weight_initializer='glorot_normal',\n",
    "    optimizer='Adam',\n",
    "    learning_rate=0.0001,\n",
    "    train_valid_proportion=1/3,\n",
    "    random_state_seed=10,\n",
    "    verbose=False\n",
    ")\n",
    "\n",
    "history, metrics_df, id = run_model(\n",
    "    model=softReg,\n",
    "    x_train=x_train,\n",
    "    x_valid=x_valid,\n",
    "    y_train=y_train,\n",
    "    y_valid=y_valid,\n",
    "    batch_size=32,\n",
    "    max_epochs=100,\n",
    "    es_config = {\n",
    "        'monitor': 'val_accuracy',\n",
    "        'patience': 10,\n",
    "        'mode': 'max',\n",
    "        'restore_best_weights': True\n",
    "    },\n",
    "    show_metrics=True,\n",
    "    verbose=False\n",
    ")\n",
    "\n",
    "print(f'Model ID: {id}')\n",
    "\n",
    "# Saving the model\n",
    "softReg.save(f'models/fmnist_softmax_coarse/{id}.h5')\n",
    "\n",
    "# See if highscore\n",
    "if best_model[\"val_acc\"] < metrics_df['val']['accuracy']:\n",
    "    best_model[\"id\"] = id\n",
    "    best_model[\"val_acc\"] = metrics_df['val']['accuracy']"
   ]
  },
  {
   "cell_type": "code",
   "execution_count": 13,
   "metadata": {},
   "outputs": [
    {
     "name": "stdout",
     "output_type": "stream",
     "text": [
      "              train       val\n",
      "accuracy   0.861325  0.849150\n",
      "auc        0.989049  0.985597\n",
      "f1         0.874854  0.847527\n",
      "loss       0.398983  0.454644\n",
      "precision  0.885527  0.873275\n",
      "recall     0.839125  0.825900\n",
      "Model ID: 20230521-222959\n"
     ]
    }
   ],
   "source": [
    "softReg, x_train, x_valid, y_train, y_valid = create_fmnist_model(\n",
    "    x_data,\n",
    "    y_data,\n",
    "    metrics=['accuracy','AUC','Precision','Recall'],\n",
    "    loss='categorical_crossentropy',\n",
    "    weight_initializer='glorot_normal',\n",
    "    optimizer='Adam',\n",
    "    learning_rate=0.001,\n",
    "    train_valid_proportion=1/3,\n",
    "    random_state_seed=10,\n",
    "    verbose=False\n",
    ")\n",
    "\n",
    "history, metrics_df, id = run_model(\n",
    "    model=softReg,\n",
    "    x_train=x_train,\n",
    "    x_valid=x_valid,\n",
    "    y_train=y_train,\n",
    "    y_valid=y_valid,\n",
    "    batch_size=32,\n",
    "    max_epochs=100,\n",
    "    es_config = {\n",
    "        'monitor': 'val_accuracy',\n",
    "        'patience': 10,\n",
    "        'mode': 'max',\n",
    "        'restore_best_weights': True\n",
    "    },\n",
    "    show_metrics=True,\n",
    "    verbose=False\n",
    ")\n",
    "\n",
    "print(f'Model ID: {id}')\n",
    "\n",
    "# Saving the model\n",
    "softReg.save(f'models/fmnist_softmax_coarse/{id}.h5')\n",
    "\n",
    "# See if highscore\n",
    "if best_model[\"val_acc\"] < metrics_df['val']['accuracy']:\n",
    "    best_model[\"id\"] = id\n",
    "    best_model[\"val_acc\"] = metrics_df['val']['accuracy']"
   ]
  },
  {
   "cell_type": "code",
   "execution_count": 14,
   "metadata": {},
   "outputs": [
    {
     "name": "stdout",
     "output_type": "stream",
     "text": [
      "              train       val\n",
      "accuracy   0.867375  0.851550\n",
      "auc        0.990411  0.986220\n",
      "f1         0.871276  0.850070\n",
      "loss       0.380182  0.448081\n",
      "precision  0.893795  0.878248\n",
      "recall     0.843050  0.828100\n",
      "Model ID: 20230521-223033\n"
     ]
    }
   ],
   "source": [
    "softReg, x_train, x_valid, y_train, y_valid = create_fmnist_model(\n",
    "    x_data,\n",
    "    y_data,\n",
    "    metrics=['accuracy','AUC','Precision','Recall'],\n",
    "    loss='categorical_crossentropy',\n",
    "    weight_initializer='glorot_normal',\n",
    "    optimizer='Adam',\n",
    "    learning_rate=0.0005,\n",
    "    train_valid_proportion=1/3,\n",
    "    random_state_seed=10,\n",
    "    verbose=False\n",
    ")\n",
    "\n",
    "history, metrics_df, id = run_model(\n",
    "    model=softReg,\n",
    "    x_train=x_train,\n",
    "    x_valid=x_valid,\n",
    "    y_train=y_train,\n",
    "    y_valid=y_valid,\n",
    "    batch_size=32,\n",
    "    max_epochs=100,\n",
    "    es_config = {\n",
    "        'monitor': 'val_accuracy',\n",
    "        'patience': 10,\n",
    "        'mode': 'max',\n",
    "        'restore_best_weights': True\n",
    "    },\n",
    "    show_metrics=True,\n",
    "    verbose=False\n",
    ")\n",
    "\n",
    "print(f'Model ID: {id}')\n",
    "\n",
    "# Saving the model\n",
    "softReg.save(f'models/fmnist_softmax_coarse/{id}.h5')\n",
    "\n",
    "# See if highscore\n",
    "if best_model[\"val_acc\"] < metrics_df['val']['accuracy']:\n",
    "    best_model[\"id\"] = id\n",
    "    best_model[\"val_acc\"] = metrics_df['val']['accuracy']"
   ]
  },
  {
   "cell_type": "code",
   "execution_count": 15,
   "metadata": {},
   "outputs": [
    {
     "name": "stdout",
     "output_type": "stream",
     "text": [
      "              train       val\n",
      "accuracy   0.873600  0.855900\n",
      "auc        0.991255  0.986937\n",
      "f1         0.873943  0.854215\n",
      "loss       0.364506  0.435536\n",
      "precision  0.901296  0.882629\n",
      "recall     0.846925  0.827950\n",
      "Model ID: 20230521-223111\n"
     ]
    }
   ],
   "source": [
    "softReg, x_train, x_valid, y_train, y_valid = create_fmnist_model(\n",
    "    x_data,\n",
    "    y_data,\n",
    "    metrics=['accuracy','AUC','Precision','Recall'],\n",
    "    loss='categorical_crossentropy',\n",
    "    weight_initializer='glorot_normal',\n",
    "    optimizer='Adam',\n",
    "    learning_rate=0.0001,\n",
    "    train_valid_proportion=1/3,\n",
    "    random_state_seed=10,\n",
    "    verbose=False\n",
    ")\n",
    "\n",
    "history, metrics_df, id = run_model(\n",
    "    model=softReg,\n",
    "    x_train=x_train,\n",
    "    x_valid=x_valid,\n",
    "    y_train=y_train,\n",
    "    y_valid=y_valid,\n",
    "    batch_size=64,\n",
    "    max_epochs=100,\n",
    "    es_config = {\n",
    "        'monitor': 'val_accuracy',\n",
    "        'patience': 10,\n",
    "        'mode': 'max',\n",
    "        'restore_best_weights': True\n",
    "    },\n",
    "    show_metrics=True,\n",
    "    verbose=False\n",
    ")\n",
    "\n",
    "print(f'Model ID: {id}')\n",
    "\n",
    "# Saving the model\n",
    "softReg.save(f'models/fmnist_softmax_coarse/{id}.h5')\n",
    "\n",
    "# See if highscore\n",
    "if best_model[\"val_acc\"] < metrics_df['val']['accuracy']:\n",
    "    best_model[\"id\"] = id\n",
    "    best_model[\"val_acc\"] = metrics_df['val']['accuracy']"
   ]
  },
  {
   "cell_type": "code",
   "execution_count": 16,
   "metadata": {},
   "outputs": [
    {
     "name": "stdout",
     "output_type": "stream",
     "text": [
      "              train       val\n",
      "accuracy   0.870875  0.854500\n",
      "auc        0.990964  0.987203\n",
      "f1         0.871324  0.853059\n",
      "loss       0.372586  0.435737\n",
      "precision  0.900994  0.882796\n",
      "recall     0.843375  0.825900\n",
      "Model ID: 20230521-223217\n"
     ]
    }
   ],
   "source": [
    "softReg, x_train, x_valid, y_train, y_valid = create_fmnist_model(\n",
    "    x_data,\n",
    "    y_data,\n",
    "    metrics=['accuracy','AUC','Precision','Recall'],\n",
    "    loss='categorical_crossentropy',\n",
    "    weight_initializer='glorot_normal',\n",
    "    optimizer='Adam',\n",
    "    learning_rate=0.0001,\n",
    "    train_valid_proportion=1/3,\n",
    "    random_state_seed=10,\n",
    "    verbose=False\n",
    ")\n",
    "\n",
    "history, metrics_df, id = run_model(\n",
    "    model=softReg,\n",
    "    x_train=x_train,\n",
    "    x_valid=x_valid,\n",
    "    y_train=y_train,\n",
    "    y_valid=y_valid,\n",
    "    batch_size=128,\n",
    "    max_epochs=100,\n",
    "    es_config = {\n",
    "        'monitor': 'val_accuracy',\n",
    "        'patience': 10,\n",
    "        'mode': 'max',\n",
    "        'restore_best_weights': True\n",
    "    },\n",
    "    show_metrics=True,\n",
    "    verbose=False\n",
    ")\n",
    "\n",
    "print(f'Model ID: {id}')\n",
    "\n",
    "# Saving the model\n",
    "softReg.save(f'models/fmnist_softmax_coarse/{id}.h5')\n",
    "\n",
    "# See if highscore\n",
    "if best_model[\"val_acc\"] < metrics_df['val']['accuracy']:\n",
    "    best_model[\"id\"] = id\n",
    "    best_model[\"val_acc\"] = metrics_df['val']['accuracy']"
   ]
  },
  {
   "cell_type": "code",
   "execution_count": 17,
   "metadata": {},
   "outputs": [
    {
     "name": "stdout",
     "output_type": "stream",
     "text": [
      "              train       val\n",
      "accuracy   0.870775  0.853150\n",
      "auc        0.991040  0.987275\n",
      "f1         0.873491  0.851442\n",
      "loss       0.371659  0.436421\n",
      "precision  0.898965  0.880708\n",
      "recall     0.844375  0.826500\n",
      "Model ID: 20230521-223300\n"
     ]
    }
   ],
   "source": [
    "softReg, x_train, x_valid, y_train, y_valid = create_fmnist_model(\n",
    "    x_data,\n",
    "    y_data,\n",
    "    metrics=['accuracy','AUC','Precision','Recall'],\n",
    "    loss='categorical_crossentropy',\n",
    "    weight_initializer='glorot_normal',\n",
    "    optimizer='Adam',\n",
    "    learning_rate=0.0001,\n",
    "    train_valid_proportion=1/3,\n",
    "    random_state_seed=10,\n",
    "    verbose=False\n",
    ")\n",
    "\n",
    "history, metrics_df, id = run_model(\n",
    "    model=softReg,\n",
    "    x_train=x_train,\n",
    "    x_valid=x_valid,\n",
    "    y_train=y_train,\n",
    "    y_valid=y_valid,\n",
    "    batch_size=16,\n",
    "    max_epochs=100,\n",
    "    es_config = {\n",
    "        'monitor': 'val_accuracy',\n",
    "        'patience': 10,\n",
    "        'mode': 'max',\n",
    "        'restore_best_weights': True\n",
    "    },\n",
    "    show_metrics=True,\n",
    "    verbose=False\n",
    ")\n",
    "\n",
    "print(f'Model ID: {id}')\n",
    "\n",
    "# Saving the model\n",
    "softReg.save(f'models/fmnist_softmax_coarse/{id}.h5')\n",
    "\n",
    "# See if highscore\n",
    "if best_model[\"val_acc\"] < metrics_df['val']['accuracy']:\n",
    "    best_model[\"id\"] = id\n",
    "    best_model[\"val_acc\"] = metrics_df['val']['accuracy']"
   ]
  },
  {
   "cell_type": "code",
   "execution_count": 18,
   "metadata": {},
   "outputs": [
    {
     "name": "stdout",
     "output_type": "stream",
     "text": [
      "              train       val\n",
      "accuracy   0.869800  0.854650\n",
      "auc        0.990921  0.987049\n",
      "f1         0.872442  0.853297\n",
      "loss       0.371805  0.435159\n",
      "precision  0.898591  0.882733\n",
      "recall     0.843350  0.826150\n",
      "Model ID: 20230521-223455\n"
     ]
    }
   ],
   "source": [
    "softReg, x_train, x_valid, y_train, y_valid = create_fmnist_model(\n",
    "    x_data,\n",
    "    y_data,\n",
    "    metrics=['accuracy','AUC','Precision','Recall'],\n",
    "    loss='categorical_crossentropy',\n",
    "    weight_initializer='glorot_uniform',\n",
    "    optimizer='Adam',\n",
    "    learning_rate=0.0001,\n",
    "    train_valid_proportion=1/3,\n",
    "    random_state_seed=10,\n",
    "    verbose=False\n",
    ")\n",
    "\n",
    "history, metrics_df, id = run_model(\n",
    "    model=softReg,\n",
    "    x_train=x_train,\n",
    "    x_valid=x_valid,\n",
    "    y_train=y_train,\n",
    "    y_valid=y_valid,\n",
    "    batch_size=32,\n",
    "    max_epochs=100,\n",
    "    es_config = {\n",
    "        'monitor': 'val_accuracy',\n",
    "        'patience': 10,\n",
    "        'mode': 'max',\n",
    "        'restore_best_weights': True\n",
    "    },\n",
    "    show_metrics=True,\n",
    "    verbose=False\n",
    ")\n",
    "\n",
    "print(f'Model ID: {id}')\n",
    "\n",
    "# Saving the model\n",
    "softReg.save(f'models/fmnist_softmax_coarse/{id}.h5')\n",
    "\n",
    "# See if highscore\n",
    "if best_model[\"val_acc\"] < metrics_df['val']['accuracy']:\n",
    "    best_model[\"id\"] = id\n",
    "    best_model[\"val_acc\"] = metrics_df['val']['accuracy']"
   ]
  },
  {
   "cell_type": "code",
   "execution_count": 19,
   "metadata": {},
   "outputs": [
    {
     "name": "stdout",
     "output_type": "stream",
     "text": [
      "              train       val\n",
      "accuracy   0.809725  0.795150\n",
      "auc        0.942211  0.932815\n",
      "f1         0.809487  0.793381\n",
      "loss       1.602280  1.924806\n",
      "precision  0.812319  0.797136\n",
      "recall     0.808075  0.793150\n",
      "Model ID: 20230521-223609\n"
     ]
    }
   ],
   "source": [
    "softReg, x_train, x_valid, y_train, y_valid = create_fmnist_model(\n",
    "    x_data,\n",
    "    y_data,\n",
    "    metrics=['accuracy','AUC','Precision','Recall'],\n",
    "    loss='categorical_crossentropy',\n",
    "    weight_initializer='random_normal',\n",
    "    weight_initializer_stddev=1,\n",
    "    optimizer='Adam',\n",
    "    learning_rate=0.0001,\n",
    "    train_valid_proportion=1/3,\n",
    "    random_state_seed=10,\n",
    "    verbose=False\n",
    ")\n",
    "\n",
    "history, metrics_df, id = run_model(\n",
    "    model=softReg,\n",
    "    x_train=x_train,\n",
    "    x_valid=x_valid,\n",
    "    y_train=y_train,\n",
    "    y_valid=y_valid,\n",
    "    batch_size=32,\n",
    "    max_epochs=100,\n",
    "    es_config = {\n",
    "        'monitor': 'val_accuracy',\n",
    "        'patience': 10,\n",
    "        'mode': 'max',\n",
    "        'restore_best_weights': True\n",
    "    },\n",
    "    show_metrics=True,\n",
    "    verbose=False\n",
    ")\n",
    "\n",
    "print(f'Model ID: {id}')\n",
    "\n",
    "# Saving the model\n",
    "softReg.save(f'models/fmnist_softmax_coarse/{id}.h5')\n",
    "\n",
    "# See if highscore\n",
    "if best_model[\"val_acc\"] < metrics_df['val']['accuracy']:\n",
    "    best_model[\"id\"] = id\n",
    "    best_model[\"val_acc\"] = metrics_df['val']['accuracy']"
   ]
  },
  {
   "cell_type": "code",
   "execution_count": 20,
   "metadata": {},
   "outputs": [
    {
     "name": "stdout",
     "output_type": "stream",
     "text": [
      "              train       val\n",
      "accuracy   0.871125  0.856300\n",
      "auc        0.991093  0.987617\n",
      "f1         0.872184  0.854898\n",
      "loss       0.370848  0.430398\n",
      "precision  0.900815  0.884375\n",
      "recall     0.843050  0.827200\n",
      "Model ID: 20230521-223902\n"
     ]
    }
   ],
   "source": [
    "softReg, x_train, x_valid, y_train, y_valid = create_fmnist_model(\n",
    "    x_data,\n",
    "    y_data,\n",
    "    metrics=['accuracy','AUC','Precision','Recall'],\n",
    "    loss='categorical_crossentropy',\n",
    "    weight_initializer='random_normal',\n",
    "    weight_initializer_stddev=0.001,\n",
    "    optimizer='Adam',\n",
    "    learning_rate=0.0001,\n",
    "    train_valid_proportion=1/3,\n",
    "    random_state_seed=10,\n",
    "    verbose=False\n",
    ")\n",
    "\n",
    "history, metrics_df, id = run_model(\n",
    "    model=softReg,\n",
    "    x_train=x_train,\n",
    "    x_valid=x_valid,\n",
    "    y_train=y_train,\n",
    "    y_valid=y_valid,\n",
    "    batch_size=32,\n",
    "    max_epochs=100,\n",
    "    es_config = {\n",
    "        'monitor': 'val_accuracy',\n",
    "        'patience': 10,\n",
    "        'mode': 'max',\n",
    "        'restore_best_weights': True\n",
    "    },\n",
    "    show_metrics=True,\n",
    "    verbose=False\n",
    ")\n",
    "\n",
    "print(f'Model ID: {id}')\n",
    "\n",
    "# Saving the model\n",
    "softReg.save(f'models/fmnist_softmax_coarse/{id}.h5')\n",
    "\n",
    "# See if highscore\n",
    "if best_model[\"val_acc\"] < metrics_df['val']['accuracy']:\n",
    "    best_model[\"id\"] = id\n",
    "    best_model[\"val_acc\"] = metrics_df['val']['accuracy']"
   ]
  },
  {
   "cell_type": "code",
   "execution_count": 21,
   "metadata": {},
   "outputs": [
    {
     "name": "stdout",
     "output_type": "stream",
     "text": [
      "Best model: 20230521-222644 with validation accuracy: 0.8575000166893005\n"
     ]
    }
   ],
   "source": [
    "print(f'Best model: {best_model[\"id\"]} with validation accuracy: {best_model[\"val_acc\"]}')"
   ]
  }
 ],
 "metadata": {
  "kernelspec": {
   "display_name": "venv",
   "language": "python",
   "name": "python3"
  },
  "language_info": {
   "codemirror_mode": {
    "name": "ipython",
    "version": 3
   },
   "file_extension": ".py",
   "mimetype": "text/x-python",
   "name": "python",
   "nbconvert_exporter": "python",
   "pygments_lexer": "ipython3",
   "version": "3.10.4"
  },
  "orig_nbformat": 4
 },
 "nbformat": 4,
 "nbformat_minor": 2
}
