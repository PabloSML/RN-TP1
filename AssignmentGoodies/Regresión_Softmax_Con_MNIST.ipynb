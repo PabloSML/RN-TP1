{
  "cells": [
    {
      "cell_type": "code",
      "execution_count": 1,
      "metadata": {
        "id": "JxCoqneHzZWv"
      },
      "outputs": [],
      "source": [
        "from keras.datasets import mnist\n",
        "import numpy as np\n",
        "from matplotlib import pyplot as plt"
      ]
    },
    {
      "cell_type": "code",
      "execution_count": 2,
      "metadata": {
        "colab": {
          "base_uri": "https://localhost:8080/"
        },
        "id": "pV2lRjoRzhMp",
        "outputId": "09ef645e-5429-48bc-f417-675b9dc915cf"
      },
      "outputs": [],
      "source": [
        "(train_X, train_y), (test_X, test_y) = mnist.load_data()"
      ]
    },
    {
      "cell_type": "code",
      "execution_count": 3,
      "metadata": {
        "colab": {
          "base_uri": "https://localhost:8080/"
        },
        "id": "VWzbuToNzzPh",
        "outputId": "47591af5-b5fd-47bb-ae2e-794c43b53c4a"
      },
      "outputs": [
        {
          "data": {
            "text/plain": [
              "(60000, 28, 28)"
            ]
          },
          "execution_count": 3,
          "metadata": {},
          "output_type": "execute_result"
        }
      ],
      "source": [
        "train_X.shape"
      ]
    },
    {
      "cell_type": "code",
      "execution_count": 4,
      "metadata": {
        "colab": {
          "base_uri": "https://localhost:8080/"
        },
        "id": "RWYxmPtxz5BI",
        "outputId": "c3676129-4dcb-437c-ae7f-8a9ecaa459e3"
      },
      "outputs": [
        {
          "data": {
            "text/plain": [
              "5"
            ]
          },
          "execution_count": 4,
          "metadata": {},
          "output_type": "execute_result"
        }
      ],
      "source": [
        "train_y[0]"
      ]
    },
    {
      "cell_type": "code",
      "execution_count": 5,
      "metadata": {
        "colab": {
          "base_uri": "https://localhost:8080/",
          "height": 447
        },
        "id": "h8Nl-PvPzjJT",
        "outputId": "38bf581a-4815-42df-9fe8-e791aca9f279"
      },
      "outputs": [
        {
          "data": {
            "text/plain": [
              "<matplotlib.image.AxesImage at 0x1ffb5b2bb50>"
            ]
          },
          "execution_count": 5,
          "metadata": {},
          "output_type": "execute_result"
        },
        {
          "data": {
            "image/png": "[encoded data removed]",
            "text/plain": [
              "<Figure size 640x480 with 1 Axes>"
            ]
          },
          "metadata": {},
          "output_type": "display_data"
        }
      ],
      "source": [
        "plt.imshow(test_X[0,...])"
      ]
    },
    {
      "cell_type": "code",
      "execution_count": 6,
      "metadata": {
        "colab": {
          "base_uri": "https://localhost:8080/"
        },
        "id": "ROo7QgLK1YEl",
        "outputId": "f16ece2e-1091-41a3-ff94-a9a2bae20cb2"
      },
      "outputs": [
        {
          "data": {
            "text/plain": [
              "(10000,)"
            ]
          },
          "execution_count": 6,
          "metadata": {},
          "output_type": "execute_result"
        }
      ],
      "source": [
        "test_y.shape"
      ]
    },
    {
      "cell_type": "code",
      "execution_count": 7,
      "metadata": {
        "id": "t1StqxwHzuOT"
      },
      "outputs": [],
      "source": [
        "y_sparse_train = np.zeros([60000,10])\n",
        "y_sparse_test = np.zeros([10000,10])"
      ]
    },
    {
      "cell_type": "code",
      "execution_count": 8,
      "metadata": {
        "id": "KpuMnQff0lW2"
      },
      "outputs": [],
      "source": [
        "for idx in range(60000):\n",
        "    y_sparse_train[idx,train_y[idx]] = 1\n",
        "\n",
        "for idx in range(10000):\n",
        "    y_sparse_test[idx,test_y[idx]] = 1"
      ]
    },
    {
      "cell_type": "code",
      "execution_count": 9,
      "metadata": {
        "colab": {
          "base_uri": "https://localhost:8080/"
        },
        "id": "wP_2cBNL0ReV",
        "outputId": "93157214-95f5-44a1-9651-6aa561704680"
      },
      "outputs": [
        {
          "data": {
            "text/plain": [
              "array([0., 0., 0., 0., 0., 1., 0., 0., 0., 0.])"
            ]
          },
          "execution_count": 9,
          "metadata": {},
          "output_type": "execute_result"
        }
      ],
      "source": [
        "y_sparse_train[0]"
      ]
    },
    {
      "cell_type": "code",
      "execution_count": 10,
      "metadata": {
        "colab": {
          "base_uri": "https://localhost:8080/"
        },
        "id": "6s0dNSA30WAS",
        "outputId": "e1b0674c-7bbf-40e4-da96-4bff57144061"
      },
      "outputs": [
        {
          "data": {
            "text/plain": [
              "array([0., 0., 0., 0., 0., 0., 0., 1., 0., 0.])"
            ]
          },
          "execution_count": 10,
          "metadata": {},
          "output_type": "execute_result"
        }
      ],
      "source": [
        "y_sparse_test[0]"
      ]
    },
    {
      "cell_type": "code",
      "execution_count": 11,
      "metadata": {
        "id": "hkpldhHi0Ymr"
      },
      "outputs": [],
      "source": [
        "import tensorflow as tf\n",
        "from tensorflow.keras.layers import Dense, Flatten\n",
        "from tensorflow.keras.optimizers import SGD\n",
        "from tensorflow.keras.models import Sequential"
      ]
    },
    {
      "cell_type": "code",
      "execution_count": 12,
      "metadata": {
        "id": "0FniugpD1yN2"
      },
      "outputs": [],
      "source": [
        "model =  Sequential()"
      ]
    },
    {
      "cell_type": "code",
      "execution_count": 13,
      "metadata": {
        "id": "VQBHlpZi19_P"
      },
      "outputs": [],
      "source": [
        "model.add(Flatten(input_shape=(28,28)))"
      ]
    },
    {
      "cell_type": "code",
      "execution_count": 14,
      "metadata": {
        "id": "vc7g_gev2apS"
      },
      "outputs": [],
      "source": [
        "model.add(Dense(100, activation=\"relu\"))\n",
        "model.add(Dense(10, activation=\"softmax\"))"
      ]
    },
    {
      "cell_type": "code",
      "execution_count": 15,
      "metadata": {
        "colab": {
          "base_uri": "https://localhost:8080/"
        },
        "id": "RLh7bW0J2d-7",
        "outputId": "72fefc6a-cf37-41ce-cbe0-811592f5703a"
      },
      "outputs": [
        {
          "name": "stdout",
          "output_type": "stream",
          "text": [
            "Model: \"sequential\"\n",
            "_________________________________________________________________\n",
            " Layer (type)                Output Shape              Param #   \n",
            "=================================================================\n",
            " flatten (Flatten)           (None, 784)               0         \n",
            "                                                                 \n",
            " dense (Dense)               (None, 100)               78500     \n",
            "                                                                 \n",
            " dense_1 (Dense)             (None, 10)                1010      \n",
            "                                                                 \n",
            "=================================================================\n",
            "Total params: 79,510\n",
            "Trainable params: 79,510\n",
            "Non-trainable params: 0\n",
            "_________________________________________________________________\n"
          ]
        }
      ],
      "source": [
        "model.summary()"
      ]
    },
    {
      "cell_type": "code",
      "execution_count": 16,
      "metadata": {
        "id": "Fu4LHsfg2fx0"
      },
      "outputs": [],
      "source": [
        "model.compile(loss = \"categorical_crossentropy\", optimizer=SGD(learning_rate=0.0001),metrics=[\"accuracy\"])"
      ]
    },
    {
      "cell_type": "code",
      "execution_count": 17,
      "metadata": {
        "colab": {
          "base_uri": "https://localhost:8080/"
        },
        "id": "DvNQ1f9C3Ory",
        "outputId": "1b5f8cfa-4f8d-4532-c436-497bd26313d6"
      },
      "outputs": [
        {
          "name": "stdout",
          "output_type": "stream",
          "text": [
            "Epoch 1/20\n",
            "469/469 [==============================] - 2s 4ms/step - loss: 12.8222 - accuracy: 0.7395 - val_loss: 5.4704 - val_accuracy: 0.8405\n",
            "Epoch 2/20\n",
            "469/469 [==============================] - 1s 3ms/step - loss: 4.8370 - accuracy: 0.8490 - val_loss: 3.9151 - val_accuracy: 0.8691\n",
            "Epoch 3/20\n",
            "469/469 [==============================] - 2s 3ms/step - loss: 3.5562 - accuracy: 0.8695 - val_loss: 3.2295 - val_accuracy: 0.8796\n",
            "Epoch 4/20\n",
            "469/469 [==============================] - 2s 3ms/step - loss: 2.8636 - accuracy: 0.8834 - val_loss: 2.7865 - val_accuracy: 0.8891\n",
            "Epoch 5/20\n",
            "469/469 [==============================] - 1s 3ms/step - loss: 2.4229 - accuracy: 0.8921 - val_loss: 2.5167 - val_accuracy: 0.8916\n",
            "Epoch 6/20\n",
            "469/469 [==============================] - 2s 3ms/step - loss: 2.1091 - accuracy: 0.8999 - val_loss: 2.3310 - val_accuracy: 0.8977\n",
            "Epoch 7/20\n",
            "469/469 [==============================] - 1s 3ms/step - loss: 1.8668 - accuracy: 0.9056 - val_loss: 2.1362 - val_accuracy: 0.8991\n",
            "Epoch 8/20\n",
            "469/469 [==============================] - 1s 3ms/step - loss: 1.6786 - accuracy: 0.9099 - val_loss: 1.9902 - val_accuracy: 0.9034\n",
            "Epoch 9/20\n",
            "469/469 [==============================] - 1s 3ms/step - loss: 1.5214 - accuracy: 0.9133 - val_loss: 1.8946 - val_accuracy: 0.9063\n",
            "Epoch 10/20\n",
            "469/469 [==============================] - 1s 3ms/step - loss: 1.3928 - accuracy: 0.9184 - val_loss: 1.8116 - val_accuracy: 0.9075\n",
            "Epoch 11/20\n",
            "469/469 [==============================] - 1s 3ms/step - loss: 1.2868 - accuracy: 0.9204 - val_loss: 1.6952 - val_accuracy: 0.9098\n",
            "Epoch 12/20\n",
            "469/469 [==============================] - 1s 3ms/step - loss: 1.1939 - accuracy: 0.9236 - val_loss: 1.6214 - val_accuracy: 0.9130\n",
            "Epoch 13/20\n",
            "469/469 [==============================] - 1s 3ms/step - loss: 1.1140 - accuracy: 0.9269 - val_loss: 1.5749 - val_accuracy: 0.9138\n",
            "Epoch 14/20\n",
            "469/469 [==============================] - 1s 3ms/step - loss: 1.0433 - accuracy: 0.9291 - val_loss: 1.5190 - val_accuracy: 0.9133\n",
            "Epoch 15/20\n",
            "469/469 [==============================] - 1s 3ms/step - loss: 0.9823 - accuracy: 0.9309 - val_loss: 1.4583 - val_accuracy: 0.9165\n",
            "Epoch 16/20\n",
            "469/469 [==============================] - 1s 3ms/step - loss: 0.9235 - accuracy: 0.9336 - val_loss: 1.4254 - val_accuracy: 0.9158\n",
            "Epoch 17/20\n",
            "469/469 [==============================] - 1s 3ms/step - loss: 0.8727 - accuracy: 0.9352 - val_loss: 1.3571 - val_accuracy: 0.9177\n",
            "Epoch 18/20\n",
            "469/469 [==============================] - 1s 3ms/step - loss: 0.8284 - accuracy: 0.9374 - val_loss: 1.3196 - val_accuracy: 0.9174\n",
            "Epoch 19/20\n",
            "469/469 [==============================] - 1s 3ms/step - loss: 0.7883 - accuracy: 0.9381 - val_loss: 1.2887 - val_accuracy: 0.9191\n",
            "Epoch 20/20\n",
            "469/469 [==============================] - 1s 3ms/step - loss: 0.7477 - accuracy: 0.9399 - val_loss: 1.2568 - val_accuracy: 0.9212\n"
          ]
        }
      ],
      "source": [
        "history = model.fit(x= train_X, y = y_sparse_train, validation_data=(test_X, y_sparse_test), batch_size = 128, epochs=20)"
      ]
    },
    {
      "cell_type": "code",
      "execution_count": 18,
      "metadata": {
        "colab": {
          "base_uri": "https://localhost:8080/",
          "height": 430
        },
        "id": "3-YPKw9V3pfW",
        "outputId": "a509a96e-d168-4c1d-ccb9-185ddda13bf4"
      },
      "outputs": [
        {
          "data": {
            "image/png": "[encoded data removed]",
            "text/plain": [
              "<Figure size 640x480 with 1 Axes>"
            ]
          },
          "metadata": {},
          "output_type": "display_data"
        }
      ],
      "source": [
        "plt.plot(history.history[\"loss\"], label=\"train\")\n",
        "plt.plot(history.history[\"val_loss\"], label=\"val\")\n",
        "plt.legend()\n",
        "plt.show()"
      ]
    },
    {
      "cell_type": "code",
      "execution_count": 19,
      "metadata": {
        "colab": {
          "base_uri": "https://localhost:8080/",
          "height": 430
        },
        "id": "vYsmvi626L2g",
        "outputId": "227c99c2-6808-47e3-ad82-be7470ced0a1"
      },
      "outputs": [
        {
          "data": {
            "image/png": "[encoded data removed]",
            "text/plain": [
              "<Figure size 640x480 with 1 Axes>"
            ]
          },
          "metadata": {},
          "output_type": "display_data"
        },
        {
          "name": "stdout",
          "output_type": "stream",
          "text": [
            "Max Accuracy: 0.9399\n",
            "Max Val Accuracy: 0.9212\n"
          ]
        }
      ],
      "source": [
        "plt.plot(history.history[\"accuracy\"], label=\"train\")\n",
        "plt.plot(history.history[\"val_accuracy\"], label=\"val\")\n",
        "plt.legend()\n",
        "plt.show()\n",
        "maxAccuracy = max(history.history[\"accuracy\"])\n",
        "maxValAccuracy = max(history.history[\"val_accuracy\"])\n",
        "print(f\"Max Accuracy: {maxAccuracy:.4f}\")\n",
        "print(f\"Max Val Accuracy: {maxValAccuracy:.4f}\")"
      ]
    }
  ],
  "metadata": {
    "colab": {
      "provenance": []
    },
    "kernelspec": {
      "display_name": "Python 3",
      "name": "python3"
    },
    "language_info": {
      "codemirror_mode": {
        "name": "ipython",
        "version": 3
      },
      "file_extension": ".py",
      "mimetype": "text/x-python",
      "name": "python",
      "nbconvert_exporter": "python",
      "pygments_lexer": "ipython3",
      "version": "3.9.16"
    }
  },
  "nbformat": 4,
  "nbformat_minor": 0
}
